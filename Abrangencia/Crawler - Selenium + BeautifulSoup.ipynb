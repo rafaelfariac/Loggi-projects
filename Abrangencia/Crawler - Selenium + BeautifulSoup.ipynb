{
 "cells": [
  {
   "cell_type": "markdown",
   "metadata": {},
   "source": [
    "# Importando informações de segurança do website da SSP"
   ]
  },
  {
   "cell_type": "markdown",
   "metadata": {},
   "source": [
    "Bibliotecas usadas:\n",
    "- Pandas\n",
    "- Selenium\n",
    "- BeautifulSoup"
   ]
  },
  {
   "cell_type": "code",
   "execution_count": 1,
   "metadata": {},
   "outputs": [],
   "source": [
    "import pandas as pd\n",
    "from selenium import webdriver\n",
    "from selenium.webdriver.common.keys import Keys\n",
    "from selenium.webdriver.support.ui import WebDriverWait\n",
    "from selenium.webdriver.support import expected_conditions as EC\n",
    "from selenium.webdriver.common.by import By\n",
    "from selenium.common.exceptions import TimeoutException\n",
    "from bs4 import BeautifulSoup"
   ]
  },
  {
   "cell_type": "markdown",
   "metadata": {},
   "source": [
    "Abrir o navegador do Google Chrome"
   ]
  },
  {
   "cell_type": "code",
   "execution_count": 2,
   "metadata": {},
   "outputs": [],
   "source": [
    "driver = webdriver.Chrome(\"C:/Users/rafael.castelao/chromedriver_win32/chromedriver.exe\")"
   ]
  },
  {
   "cell_type": "markdown",
   "metadata": {},
   "source": [
    "Abrir a página do SSP"
   ]
  },
  {
   "cell_type": "code",
   "execution_count": 3,
   "metadata": {},
   "outputs": [],
   "source": [
    "driver.get('http://www.ssp.sp.gov.br/Estatistica/Pesquisa.aspx')"
   ]
  },
  {
   "cell_type": "markdown",
   "metadata": {},
   "source": [
    "Selecionar as opões desejadas para cada campo drop-down"
   ]
  },
  {
   "cell_type": "code",
   "execution_count": 4,
   "metadata": {},
   "outputs": [],
   "source": [
    "# Campo 'Ano' = '2018'\n",
    "driver.find_element_by_xpath(\"//select[@id='conteudo_ddlAnos']/option[text()='2018']\").click()\n",
    "\n",
    "# Campo 'Regiões' = 'Capital'\n",
    "driver.find_element_by_xpath(\"//select[@id='conteudo_ddlRegioes']/option[text()='Capital']\").click()\n",
    "\n",
    "# Campo 'Municípios' = 'São Paulo'\n",
    "driver.find_element_by_xpath(\"//select[@id='conteudo_ddlMunicipios']/option[text()='São Paulo']\").click()"
   ]
  },
  {
   "cell_type": "markdown",
   "metadata": {},
   "source": [
    "Selecionar a opção \"Ocorrências Registradas por Mês\""
   ]
  },
  {
   "cell_type": "code",
   "execution_count": 5,
   "metadata": {},
   "outputs": [],
   "source": [
    "driver.find_element_by_id('conteudo_btnMensal').click()"
   ]
  },
  {
   "cell_type": "markdown",
   "metadata": {},
   "source": [
    "Obtendo todas as opções do campo drop-down \"Delegacias\""
   ]
  },
  {
   "cell_type": "code",
   "execution_count": 6,
   "metadata": {},
   "outputs": [],
   "source": [
    "delegaciasBox = driver.find_element_by_id(\"conteudo_ddlDelegacias\")\n",
    "delegaciasOptions = [x for x in delegaciasBox.find_elements_by_tag_name(\"option\")]\n",
    "\n",
    "# Armazenar os nomes das delegacias em um array de strings\n",
    "# Isso evita que seja feita uma busca no array 'delegaciasOptions', enquanto a página é atualizada\n",
    "#    Como esse array carrega informações de elementos html, eles precisam existir no DOM quando são consultados\n",
    "delegaciaName = []\n",
    "for element in delegaciasOptions:\n",
    "    delegaciaName.append(element.get_attribute(\"text\"))"
   ]
  },
  {
   "cell_type": "markdown",
   "metadata": {},
   "source": [
    "Abrir o arquivo Excel para armazenamento das informações"
   ]
  },
  {
   "cell_type": "code",
   "execution_count": 7,
   "metadata": {},
   "outputs": [],
   "source": [
    "writer = pd.ExcelWriter('SSP_info.xlsx', engine='xlsxwriter')"
   ]
  },
  {
   "cell_type": "markdown",
   "metadata": {},
   "source": [
    "Armazenar a tabela de ocorrências para cada delegacia em abas separadas no arquivo Excel"
   ]
  },
  {
   "cell_type": "code",
   "execution_count": 8,
   "metadata": {},
   "outputs": [],
   "source": [
    "for element in delegaciaName:\n",
    "    # Seleciona a delegacia no campo drop-down\n",
    "    optionNameXpath = \"//select[@id='conteudo_ddlDelegacias']/option[text()='\" + element + \"']\"\n",
    "    driver.find_element_by_xpath(optionNameXpath).click()\n",
    "    \n",
    "    # A biblioteca Beautiful Soup obtém as informações através do DOM\n",
    "    soup_level2 = BeautifulSoup(driver.page_source, 'lxml')\n",
    "    \n",
    "    # Carrega a tabela HTML da página\n",
    "    table = soup_level2.find_all('table')[0]\n",
    "    \n",
    "    # Transforma a tabela HTML em um DataFrame\n",
    "    df = pd.read_html(str(table), header=0)\n",
    "    \n",
    "    # Escreve o DataFrame em uma aba do arquivo Excel\n",
    "    df[0].to_excel(writer, sheet_name=element[:30])"
   ]
  },
  {
   "cell_type": "markdown",
   "metadata": {},
   "source": [
    "Salva o arquivo Excel, que se encontra na raiz da pasta"
   ]
  },
  {
   "cell_type": "code",
   "execution_count": 9,
   "metadata": {},
   "outputs": [],
   "source": [
    "writer.save()"
   ]
  }
 ],
 "metadata": {
  "kernelspec": {
   "display_name": "Python 3",
   "language": "python",
   "name": "python3"
  },
  "language_info": {
   "codemirror_mode": {
    "name": "ipython",
    "version": 3
   },
   "file_extension": ".py",
   "mimetype": "text/x-python",
   "name": "python",
   "nbconvert_exporter": "python",
   "pygments_lexer": "ipython3",
   "version": "3.6.5"
  }
 },
 "nbformat": 4,
 "nbformat_minor": 2
}
